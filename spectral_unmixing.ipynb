{
  "nbformat": 4,
  "nbformat_minor": 0,
  "metadata": {
    "colab": {
      "provenance": [],
      "include_colab_link": true
    },
    "kernelspec": {
      "name": "python3",
      "display_name": "Python 3"
    },
    "language_info": {
      "name": "python"
    }
  },
  "cells": [
    {
      "cell_type": "markdown",
      "metadata": {
        "id": "view-in-github",
        "colab_type": "text"
      },
      "source": [
        "<a href=\"https://colab.research.google.com/github/lariferg/spectral_unmixing/blob/main/spectral_unmixing.ipynb\" target=\"_parent\"><img src=\"https://colab.research.google.com/assets/colab-badge.svg\" alt=\"Open In Colab\"/></a>"
      ]
    },
    {
      "cell_type": "code",
      "execution_count": null,
      "metadata": {
        "id": "EwZx4oCMF1SL"
      },
      "outputs": [],
      "source": [
        "#Red into Green bleedthrough (between 0-1)\n",
        "RG = 0.00942703\n",
        "#Green into Red bleedthrough (between 0-1)\n",
        "GR = 0.11317624"
      ]
    },
    {
      "cell_type": "code",
      "source": [
        "import numpy as np\n",
        "import tifffile as tif\n",
        "\n",
        "def load_tif_keep_name(filename):\n",
        "  image = tif.imread(filename)\n",
        "  return image, filename"
      ],
      "metadata": {
        "id": "8_KWApWkbALe"
      },
      "execution_count": null,
      "outputs": []
    },
    {
      "cell_type": "code",
      "source": [
        "image_green, filename_green = load_tif_keep_name('/content/0002125_01_488Ex-530Em.TIF')\n",
        "image_red, filename_red = load_tif_keep_name('/content/0002125_01_520Ex-590Em.TIF')"
      ],
      "metadata": {
        "id": "TAk47vB-bBLX"
      },
      "execution_count": null,
      "outputs": []
    },
    {
      "cell_type": "code",
      "source": [
        "new_filename_green = filename_green.replace('.TIF', '_unmixed.TIF')\n",
        "new_filename_red = filename_red.replace('.TIF', '_unmixed.TIF')"
      ],
      "metadata": {
        "id": "OdZCztsUbaYk"
      },
      "execution_count": null,
      "outputs": []
    },
    {
      "cell_type": "code",
      "source": [
        "#arrays of 0 with same size as og images\n",
        "GREEN = np.zeros_like(image_green)\n",
        "RED = np.zeros_like(image_red)\n",
        "\n",
        "#iterate through each pixel (idetified by the arrays, which should be of identical size). i=row, j=column\n",
        "for i in range(image_green.shape[0]):\n",
        "    for j in range(image_green.shape[1]):\n",
        "        #find the intensity of the pixel from image_green and image_red and save as \"mixed\" variables\n",
        "        mix_g = image_green[i, j]\n",
        "        mix_r = image_red[i, j]\n",
        "\n",
        "        #solve for unmixed GREEN and RED\n",
        "        GREEN[i, j] = (mix_g - (mix_r * RG)) / (1 - (GR * RG))\n",
        "        RED[i, j] = (mix_r - (mix_g * GR)) / (1 - (RG * GR))\n",
        "\n",
        "#save the new images using unmxed intensity values\n",
        "tif.imwrite(new_filename_green, GREEN)\n",
        "tif.imwrite(new_filename_red, RED)"
      ],
      "metadata": {
        "id": "Ox83psS5GBxs"
      },
      "execution_count": null,
      "outputs": []
    }
  ]
}